{
  "nbformat": 4,
  "nbformat_minor": 0,
  "metadata": {
    "colab": {
      "name": "NonLinearDynamics.ipynb",
      "provenance": [],
      "collapsed_sections": []
    },
    "kernelspec": {
      "name": "python3",
      "display_name": "Python 3"
    }
  },
  "cells": [
    {
      "cell_type": "markdown",
      "metadata": {
        "id": "uIVd2jQv9K0q",
        "colab_type": "text"
      },
      "source": [
        "Problem Statement:\n",
        "Use your logistic map program to explore the idea of sensitive dependence on initial conditions. Generate two trajectories of the logistic map $\\left\\{x_{n}\\right\\}$ and $\\left\\{\\hat{x}_{n}\\right\\} .$ For each of these experiments the initial condition of $\\left\\{x_{n}\\right\\}$ should be $x_{0}=0.2$ and for $\\left\\{\\hat{x}_{n}\\right\\}$ you should use $x_{0}=0.200001 .$ For now, fix $r=2 .$ generate these two trajectories and then plot $\\left|x_{n}-\\hat{x}_{n}\\right|$ vs $n .$ Now repeat this for $r=3.4,$ and $r=3.72$ Compare your results to the three plots below and then answer the questions that follow."
      ]
    },
    {
      "cell_type": "code",
      "metadata": {
        "id": "dk4mvDc0xwRZ",
        "colab_type": "code",
        "outputId": "74fa189f-86fc-4be4-a77c-4c393753f579",
        "colab": {
          "base_uri": "https://localhost:8080/",
          "height": 305
        }
      },
      "source": [
        "x0 = float(input(\"Enter the value of x0(initial state)\\n\"))\n",
        "r = float(input(\"Enter the value of r(parameter)\\n\"))\n",
        "n = input(\"Enter the number of iterations \\n\")\n",
        "print(\"Selected condition: r=%.1f x0=%.1f\" % (r,x0))\n",
        "prev = x0\n",
        "curr = 0\n",
        "for i in range(1,int(n)):\n",
        "    curr = prev * r * (1-prev)\n",
        "    print(\"The value of x%d is %.3f\" % (i,curr))\n",
        "    prev = curr"
      ],
      "execution_count": 1,
      "outputs": [
        {
          "output_type": "stream",
          "text": [
            "Enter the value of x0(initial state)\n",
            "0.2\n",
            "Enter the value of r(parameter)\n",
            "2\n",
            "Enter the number of iterations \n",
            "10\n",
            "Selected condition: r=2.0 x0=0.2\n",
            "The value of x1 is 0.320\n",
            "The value of x2 is 0.435\n",
            "The value of x3 is 0.492\n",
            "The value of x4 is 0.500\n",
            "The value of x5 is 0.500\n",
            "The value of x6 is 0.500\n",
            "The value of x7 is 0.500\n",
            "The value of x8 is 0.500\n",
            "The value of x9 is 0.500\n"
          ],
          "name": "stdout"
        }
      ]
    },
    {
      "cell_type": "code",
      "metadata": {
        "id": "4AAmuYFL2dmL",
        "colab_type": "code",
        "outputId": "5db287b9-4c8a-4ffd-cf69-ed0ed8fa8d14",
        "colab": {
          "base_uri": "https://localhost:8080/",
          "height": 583
        }
      },
      "source": [
        "import matplotlib.pyplot as plt\n",
        "import numpy as np\n",
        "\n",
        "print(\"Trajectory1 parameters: \\n\")\n",
        "x0 = float(input(\"Enter the value of x0(initial state)\\n\"))\n",
        "r = float(input(\"Enter the value of r(parameter)\\n\"))\n",
        "n = input(\"Enter the number of iterations \\n\")\n",
        "print(\"Selected condition: r=%.1f x0=%f\" % (r,x0))\n",
        "prev = x0\n",
        "curr = 0\n",
        "trajectory = []\n",
        "for i in range(int(n)):\n",
        "    curr = prev * r * (1-prev)\n",
        "    #print(\"The value of x%d is %.3f\" % (i,curr))\n",
        "    trajectory.append(curr)\n",
        "    prev = curr\n",
        "\n",
        "print(\"Trajectory2 parameters: \\n\")\n",
        "x0_1 = float(input(\"Enter the value of x0(initial state)\\n\"))\n",
        "r_1 = float(input(\"Enter the value of r(parameter)\\n\"))\n",
        "print(\"Selected condition: r=%.1f x0=%f\" % (r_1,x0_1))\n",
        "prev_1 = x0_1\n",
        "curr_1 = 0\n",
        "trajectory2 = []\n",
        "for i in range(int(n)):\n",
        "    curr_1 = prev_1 * r_1 * (1-prev_1)\n",
        "    #print(\"The value of x%d is %.3f\" % (i,curr))\n",
        "    trajectory2.append(curr_1)\n",
        "    prev_1 = curr_1\n",
        "\n",
        "difference = []\n",
        "time = []\n",
        "for i in range(int(n)):\n",
        "    difference.append(abs(trajectory[i]-trajectory2[i]))\n",
        "    time.append(i+1)\n",
        "\n",
        "plt.plot(time,difference,\"go\")\n",
        "plt.title(\"Difference Plot\")\n",
        "plt.xlabel(\"n\")\n",
        "plt.ylabel(\"|xn - ^xn|\")\n",
        "plt.show()"
      ],
      "execution_count": 0,
      "outputs": [
        {
          "output_type": "stream",
          "text": [
            "Trajectory1 parameters: \n",
            "\n",
            "Enter the value of x0(initial state)\n",
            "0.2\n",
            "Enter the value of r(parameter)\n",
            "3.72\n",
            "Enter the number of iterations \n",
            "200\n",
            "Selected condition: r=3.7 x0=0.200000\n",
            "Trajectory2 parameters: \n",
            "\n",
            "Enter the value of x0(initial state)\n",
            "0.200001\n",
            "Enter the value of r(parameter)\n",
            "3.72\n",
            "Selected condition: r=3.7 x0=0.200001\n"
          ],
          "name": "stdout"
        },
        {
          "output_type": "display_data",
          "data": {
            "image/png": "[encoded data removed]",
            "text/plain": [
              "<Figure size 432x288 with 1 Axes>"
            ]
          },
          "metadata": {
            "tags": [],
            "needs_background": "light"
          }
        }
      ]
    },
    {
      "cell_type": "markdown",
      "metadata": {
        "id": "xS2aRjne-zpd",
        "colab_type": "text"
      },
      "source": [
        "For $r=3.72,$ what is the average absolute difference for the first 5,000 iterates? li.e., $\\frac{1}{5,000} \\sum_{j}^{5,000}\\left|x_{j}-\\hat{x}_{j}\\right|$ ) Depending on your implementation your exact answer may be slightly different; choose the answer that is closest to the one you computed."
      ]
    },
    {
      "cell_type": "code",
      "metadata": {
        "id": "4i1XDJNp-TWg",
        "colab_type": "code",
        "outputId": "fa8c9fe1-733d-40b7-dbaf-7a9f2b8429d8",
        "colab": {
          "base_uri": "https://localhost:8080/",
          "height": 323
        }
      },
      "source": [
        "import matplotlib.pyplot as plt\n",
        "import numpy as np\n",
        "\n",
        "print(\"Trajectory1 parameters: \\n\")\n",
        "x0 = float(input(\"Enter the value of x0(initial state)\\n\"))\n",
        "r = float(input(\"Enter the value of r(parameter)\\n\"))\n",
        "n = input(\"Enter the number of iterations \\n\")\n",
        "print(\"Selected condition: r=%.1f x0=%f\" % (r,x0))\n",
        "prev = x0\n",
        "curr = 0\n",
        "trajectory = []\n",
        "for i in range(int(n)):\n",
        "    curr = prev * r * (1-prev)\n",
        "    #print(\"The value of x%d is %.3f\" % (i,curr))\n",
        "    trajectory.append(curr)\n",
        "    prev = curr\n",
        "\n",
        "print(\"Trajectory2 parameters: \\n\")\n",
        "x0_1 = float(input(\"Enter the value of x0(initial state)\\n\"))\n",
        "r_1 = float(input(\"Enter the value of r(parameter)\\n\"))\n",
        "print(\"Selected condition: r=%.1f x0=%f\" % (r_1,x0_1))\n",
        "prev_1 = x0_1\n",
        "curr_1 = 0\n",
        "trajectory2 = []\n",
        "for i in range(int(n)):\n",
        "    curr_1 = prev_1 * r_1 * (1-prev_1)\n",
        "    #print(\"The value of x%d is %.3f\" % (i,curr))\n",
        "    trajectory2.append(curr_1)\n",
        "    prev_1 = curr_1\n",
        "\n",
        "difference = []\n",
        "time = []\n",
        "for i in range(int(n)):\n",
        "    difference.append(abs(trajectory[i]-trajectory2[i]))\n",
        "\n",
        "sum = 0\n",
        "for i in range(int(n)):\n",
        "    sum = sum + difference[i]\n",
        "avg = sum/5000\n",
        "print(avg)"
      ],
      "execution_count": 0,
      "outputs": [
        {
          "output_type": "stream",
          "text": [
            "Trajectory1 parameters: \n",
            "\n",
            "Enter the value of x0(initial state)\n",
            "0.2\n",
            "Enter the value of r(parameter)\n",
            "3.72\n",
            "Enter the number of iterations \n",
            "500000\n",
            "Selected condition: r=3.7 x0=0.200000\n",
            "Trajectory2 parameters: \n",
            "\n",
            "Enter the value of x0(initial state)\n",
            "0.200001\n",
            "Enter the value of r(parameter)\n",
            "3.72\n",
            "Selected condition: r=3.7 x0=0.200001\n",
            "24.406733773753455\n"
          ],
          "name": "stdout"
        }
      ]
    }
  ]
}